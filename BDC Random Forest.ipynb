{
 "cells": [
  {
   "cell_type": "code",
   "execution_count": null,
   "metadata": {},
   "outputs": [],
   "source": [
    "import numpy as np\n",
    "import sklearn as sk\n",
    "import sklearn.datasets as skd\n",
    "import sklearn.ensemble as ske\n",
    "import matplotlib.pyplot as plt\n",
    "%matplotlib inline\n",
    "\n",
    "data = pd.read_csv('data.csv')\n",
    "\n",
    "reg = ske.RandomForestRegressor()\n",
    "X = data['data']\n",
    "y = data['target']\n",
    "reg.fit(X, y)\n",
    "\n",
    "fet_ind = np.argsort(reg.feature_importances_)[::-1]\n",
    "fet_imp = reg.feature_importances_[fet_ind]\n",
    "\n",
    "fig, ax = plt.subplots(1, 1, figsize=(8, 3))\n",
    "labels = data['feature_names'][fet_ind]\n",
    "pd.Series(fet_imp, index=labels).plot('bar', ax=ax)\n",
    "ax.set_title('Features importance')\n",
    "\n",
    "from sklearn import tree\n",
    "tree.export_graphviz(reg.estimators_[0],'tree.dot')\n"
   ]
  },
  {
   "cell_type": "code",
   "execution_count": null,
   "metadata": {},
   "outputs": [],
   "source": []
  },
  {
   "cell_type": "code",
   "execution_count": null,
   "metadata": {},
   "outputs": [],
   "source": []
  }
 ],
 "metadata": {
  "kernelspec": {
   "display_name": "Python 3",
   "language": "python",
   "name": "python3"
  },
  "language_info": {
   "codemirror_mode": {
    "name": "ipython",
    "version": 3
   },
   "file_extension": ".py",
   "mimetype": "text/x-python",
   "name": "python",
   "nbconvert_exporter": "python",
   "pygments_lexer": "ipython3",
   "version": "3.7.1"
  }
 },
 "nbformat": 4,
 "nbformat_minor": 2
}
